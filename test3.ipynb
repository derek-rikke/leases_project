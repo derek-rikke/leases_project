{
 "cells": [
  {
   "cell_type": "code",
   "execution_count": 1,
   "metadata": {},
   "outputs": [],
   "source": [
    "import os\n",
    "import streamlit as st\n",
    "from langchain.document_loaders import PyPDFLoader\n",
    "import PyPDF2\n",
    "from langchain import OpenAI \n",
    "from langchain.chat_models import ChatOpenAI\n",
    "from langchain.text_splitter import RecursiveCharacterTextSplitter \n",
    "from langchain.embeddings.openai import OpenAIEmbeddings\n",
    "from langchain.vectorstores import Chroma \n",
    "from langchain.chains import ConversationalRetrievalChain\n",
    "from langchain_core.prompts import PromptTemplate, FewShotPromptTemplate\n",
    "import logging\n",
    "logging.basicConfig(level=logging.DEBUG)"
   ]
  },
  {
   "cell_type": "code",
   "execution_count": 2,
   "metadata": {},
   "outputs": [
    {
     "name": "stderr",
     "output_type": "stream",
     "text": [
      "2024-04-25 19:19:05.394 \n",
      "  \u001b[33m\u001b[1mWarning:\u001b[0m to view this Streamlit app on a browser, run it with the following\n",
      "  command:\n",
      "\n",
      "    streamlit run c:\\Users\\mered\\anaconda3\\Lib\\site-packages\\ipykernel_launcher.py [ARGUMENTS]\n"
     ]
    },
    {
     "data": {
      "text/plain": [
       "DeltaGenerator()"
      ]
     },
     "execution_count": 2,
     "metadata": {},
     "output_type": "execute_result"
    }
   ],
   "source": [
    "# Set the model name for LLM\n",
    "OPENAI_MODEL = \"gpt-3.5-turbo\"\n",
    "\n",
    "# Store API key as a variable\n",
    "openai_api_key = st.secrets[\"OPENAI_API_KEY\"]\n",
    "\n",
    "# define function to clear chat history\n",
    "def clear_history():\n",
    "    if 'history' in st.session_state:\n",
    "        del st.session_state['history']\n",
    "\n",
    "st.title('ASC 842 AI Assistant')\n",
    "st.header('This assistant is preloaded with accounting guidance related to ASC 842 Leases under US GAAP.')\n",
    "st.divider()\n",
    "st.write('This assistant cannot give specific accounting advice. It is a learning tool and a proof of concept. It is not intended for commercial use. For accounting advice, please consult an appropriate professional.')\n",
    "st.divider()"
   ]
  },
  {
   "cell_type": "code",
   "execution_count": 3,
   "metadata": {},
   "outputs": [
    {
     "name": "stderr",
     "output_type": "stream",
     "text": [
      "c:\\Users\\mered\\anaconda3\\Lib\\site-packages\\langchain_core\\_api\\deprecation.py:119: LangChainDeprecationWarning: The class `OpenAIEmbeddings` was deprecated in LangChain 0.0.9 and will be removed in 0.2.0. An updated version of the class exists in the langchain-openai package and should be used instead. To use it run `pip install -U langchain-openai` and import as `from langchain_openai import OpenAIEmbeddings`.\n",
      "  warn_deprecated(\n",
      "DEBUG:httpx:load_ssl_context verify=True cert=None trust_env=True http2=False\n",
      "DEBUG:httpx:load_verify_locations cafile='C:\\\\Users\\\\mered\\\\anaconda3\\\\Library\\\\ssl\\\\cacert.pem'\n",
      "DEBUG:httpx:load_ssl_context verify=True cert=None trust_env=True http2=False\n",
      "DEBUG:httpx:load_verify_locations cafile='C:\\\\Users\\\\mered\\\\anaconda3\\\\Library\\\\ssl\\\\cacert.pem'\n",
      "DEBUG:chromadb.auth.registry:Registering provider: token_config\n",
      "DEBUG:chromadb.auth.registry:Registering provider: user_token_config\n",
      "DEBUG:chromadb.auth.registry:Registering provider: token\n",
      "DEBUG:chromadb.auth.registry:Registering provider: token\n",
      "INFO:chromadb.telemetry.product.posthog:Anonymized telemetry enabled. See                     https://docs.trychroma.com/telemetry for more information.\n",
      "DEBUG:chromadb.config:Starting component System\n",
      "DEBUG:chromadb.config:Starting component Posthog\n",
      "DEBUG:chromadb.config:Starting component OpenTelemetryClient\n",
      "DEBUG:chromadb.config:Starting component SimpleAssignmentPolicy\n",
      "DEBUG:chromadb.config:Starting component SqliteDB\n",
      "DEBUG:chromadb.config:Starting component QuotaEnforcer\n",
      "DEBUG:chromadb.config:Starting component LocalSegmentManager\n",
      "DEBUG:chromadb.config:Starting component SegmentAPI\n",
      "DEBUG:openai._base_client:Request options: {'method': 'post', 'url': '/embeddings', 'files': None, 'post_parser': <function Embeddings.create.<locals>.parser at 0x000001F4D9CF40E0>, 'json_data': {'input': [[44, 12616, 411, 4584, 6854, 325, 1174, 87377, 2355, 7, 22642, 8, 220, 15282, 482, 21598, 18, 220, 69398, 253, 4809, 82163, 76, 641, 70754, 31, 12214, 916, 2355, 2185, 64596, 916, 18480, 14, 1195, 82163, 76, 641, 70754, 2355, 720, 16074, 76184, 2355, 720, 2149, 18080, 87, 220, 15940, 9708, 36542, 1174, 21075, 11478, 1174, 13325, 11, 8029, 32874, 11, 22137, 1174, 20151, 48, 561, 1174, 5348, 1074, 11, 220, 9558, 29100, 1174, 34120, 14025, 1174, 5195, 720, 29100, 11, 21705, 1174, 9506, 1174, 1920, 482, 318, 782, 7986, 11, 33762, 11, 5597, 482, 28936, 11, 5326, 6492, 11, 2305, 482, 408, 3345, 11, 25605, 24043, 11, 720, 22298, 11071, 32545, 4008, 811, 11, 5745, 55, 11835, 11, 1920, 9904, 1174, 1274, 10299, 436, 3217, 2355, 1507, 5576, 3579, 5996, 720, 1899, 39610, 3414, 3083, 67286, 3848, 11, 59294, 22107, 15354, 26304, 320, 21, 4038, 8, 220, 22898, 11, 7432, 2355, 34302, 304, 59294, 22107, 220, 5936, 220, 2366, 19, 2355, 6806, 13325, 15840, 369, 15592, 2355, 6806, 2956, 8863, 1174, 6492, 11, 323, 42148, 220, 449, 34606, 300, 720, 6806, 328, 43662, 828, 449, 34456, 2355, 6806, 1252, 13066, 79090, 14, 10254, 79090, 5780, 6975, 4211, 2355, 6806, 5008, 1389, 30990, 1389, 33810, 323, 26329, 11618, 720, 6806, 61577, 14488, 323, 5655, 6975, 4211, 2355, 6806, 18955, 4221, 8863, 2355, 6806, 81632, 323, 872, 8522, 2355, 6806, 23272, 19368, 11, 2895, 4111, 11, 9384, 32735, 5996, 720, 34165, 30593, 26659, 877, 11010, 1174, 1901, 875, 3817, 6150, 315, 8184, 220, 1561, 4356, 11, 12551, 2355, 18532, 315, 8184, 17128, 304, 8785, 6709, 11, 71155, 25, 220, 18, 13, 6069, 256, 5651, 220, 679, 20, 2355, 720, 1899, 39610, 3414, 3083, 432, 33929, 22053, 35, 220, 35348, 11, 21571, 2355, 87831, 315, 17979, 304, 37263, 19241, 323, 11215, 753, 19241, 1174, 71155, 25, 220, 18, 13, 1806, 220, 3297, 220, 2550, 23, 720, 6806, 19723, 22917, 1060, 52320, 25, 41046, 38265, 11050, 323, 47886, 9744, 2355, 720, 90531, 78679, 3651, 12367, 50, 5996, 720, 7269, 32, 720, 78569, 1389, 220, 87377, 13, 6268, 18162, 18, 2355, 720, 9295, 11673, 5123, 984, 81181, 57782, 5996, 2355, 23662, 34429, 2355, 96301, 256, 220, 2705, 14, 1691, 1389, 220, 2839, 14, 1419, 720, 7516, 287, 10790, 11, 480, 665, 3333, 71406, 10901, 849, 8068, 5996, 6806, 8773, 16048, 323, 33762, 1701, 5557, 26, 1708, 18080, 87, 11, 34120, 14025, 11, 33762, 4519, 304, 22137, 26, 28326, 321, 259, 1708, 18080, 87, 720, 1816, 39240, 311, 28696, 5377, 13228, 86659, 940, 82, 11, 41645, 220, 532, 6492, 282, 14379, 288, 1174, 8486, 10925, 11, 323, 83776, 6492, 13239, 304, 5199, 720, 1712, 19523, 323, 7319, 13708, 10991, 54478, 5326, 2355, 6806, 49681, 349, 294, 4028, 26280, 311, 28696, 1708, 18080, 87, 10151, 4857, 323, 5211, 11821, 11, 3552, 2128, 35936, 311, 1977, 720, 2149, 18080, 87, 88568, 323, 28696, 6975, 2355, 6806, 8121, 2626, 1920, 6506, 369, 8515, 6373, 304, 22137, 66279, 8292, 25, 282, 297, 3751, 1608, 5425, 12, 9476, 720, 51271, 11, 20632, 11, 323, 69771, 304, 14529, 9320, 311, 502, 22137, 66279, 1887, 11, 990, 1608, 449, 41755, 720, 21243, 481, 11, 32991, 11, 7432, 16929, 11, 7327, 7411, 311, 15806, 5326, 11, 3575, 482, 60519, 9320, 11774, 11, 220, 3549, 220, 502, 11618, 720, 438, 9904, 1174, 6106, 294, 5745, 55, 49798, 6020, 11835, 602, 296, 14565, 220, 323, 36051, 291, 311, 2355, 6806, 468, 5646, 24043, 10396, 304, 18859, 449, 2326, 27438, 2599, 323, 3477, 1608, 11618, 323, 86659, 940, 82, 311, 6106, 27438, 2599, 8907, 2355, 6806, 9365, 1608, 2305, 482, 408, 323, 8502, 482, 408, 11618, 311, 6106, 25261, 8907, 323, 13687, 323, 32100, 6020, 13122], [6161, 33199, 45871, 13332, 2355, 96301, 256, 220, 605, 14, 972, 1389, 220, 2304, 14, 1691, 720, 2087, 11, 4563, 5481, 4478, 45344, 220, 320, 2318, 14, 508, 1389, 220, 2304, 14, 1691, 883, 2355, 6806, 68728, 369, 362, 393, 734, 11, 10299, 294, 1403, 2539, 892, 5687, 1174, 304, 5369, 311, 4689, 13166, 24043, 369, 73657, 11, 5708, 1391, 11, 720, 396, 526, 21041, 11, 864, 6733, 3447, 11, 46208, 11, 5705, 13709, 11, 69771, 958, 10348, 704, 315, 8335, 4819, 2355, 6806, 12028, 553, 294, 323, 10519, 1608, 3477, 10867, 299, 838, 11618, 323, 220, 9904, 220, 369, 11630, 14507, 11, 350, 69248, 220, 71111, 11, 720, 6133, 61721, 6807, 7563, 220, 323, 4689, 21993, 315, 2343, 4893, 6067, 320, 45, 24590, 11, 17669, 11188, 8, 2355, 6806, 49681, 349, 294, 323, 6057, 266, 1608, 449, 22622, 24043, 9476, 220, 311, 7417, 220, 1833, 709, 220, 11618, 369, 2759, 720, 265, 41546, 4008, 811, 2355, 6806, 53253, 294, 10314, 65152, 2919, 15639, 555, 463, 64119, 42247, 449, 45693, 13, 14971, 1174, 10209, 4967, 274, 323, 1862, 720, 51878, 1174, 18899, 12135, 1990, 8294, 2883, 323, 10314, 2128, 2355, 6806, 40665, 294, 5216, 220, 323, 4967, 220, 311, 5687, 9002, 7446, 16346, 323, 2326, 27438, 2599, 24043, 8907, 2355, 720, 48195, 36565, 8785, 519, 220, 320, 605, 14, 972, 1389, 220, 2318, 14, 508, 8, 720, 6806, 17559, 2851, 304, 1920, 18637, 323, 6067, 39437, 369, 25, 2355, 19931, 1391, 1389, 220, 11798, 384, 40273, 753, 220, 58588, 10564, 311, 11294, 15438, 20900, 6296, 13, 4972, 11630, 1920, 2355, 21243, 1119, 1389, 3682, 8292, 304, 73194, 505, 29950, 4476, 311, 9827, 47, 2355, 4808, 35778, 20900, 711, 56243, 1389, 72849, 13241, 5419, 29388, 11, 10758, 11, 323, 28605, 3359, 2561, 5348, 1074, 720, 59342, 311, 69711, 83776, 2759, 32545, 4008, 811, 2355, 6806, 68728, 369, 5708, 1391, 11, 13166, 86659, 940, 82, 11, 83776, 20900, 711, 56243, 11, 26120, 20900, 15194, 11, 528, 526, 21041, 93364, 2065, 11, 15194, 323, 83832, 287, 3285, 685, 3554, 263, 4881, 11, 46208, 8486, 10925, 323, 4689, 46208, 16101, 61470, 11, 18623, 482, 11934, 1990, 5705, 720, 6838, 1244, 1856, 64, 1672, 8, 611, 6020, 5224, 3241, 320, 36, 8971, 8, 611, 5348, 1074, 11, 2804, 5705, 67008, 12621, 31879, 36, 56, 720, 3648, 4356, 611, 22898, 256, 220, 2589, 14, 868, 1389, 220, 605, 14, 972, 720, 48195, 1389, 17961, 45344, 45013, 8471, 320, 3711, 1950, 8, 1389, 22898, 1174, 7432, 320, 2705, 14, 1114, 12, 220, 605, 14, 972, 8, 2355, 6806, 5165, 24043, 2349, 2128, 1389, 73657, 320, 24635, 220, 25377, 323, 358, 10725, 50, 220, 845, 883, 720, 6806, 220, 18, 6634, 4717, 73657, 3851, 7649, 320, 68838, 5091, 2871, 1953, 32, 11, 81751, 48005, 859, 11, 17216, 1111, 44329, 10994, 8, 2355, 6806, 33597, 369, 469, 56, 81751, 45344, 27640, 320, 24299, 8, 3851, 26, 3063, 44895, 369, 502, 323, 4754, 8403, 26, 720, 263, 2541, 1608, 20392, 7411, 311, 11744, 311, 279, 5507, 11, 5211, 311, 469, 56, 7411, 369, 4860, 323, 3575, 22581, 2355, 720, 34311, 1389, 48746, 220, 1389, 1561, 4356, 1174, 12551, 320, 2589, 14, 868, 482, 220, 2304, 14, 1114, 8, 5996, 6806, 15416, 1639, 1972, 12675, 6373, 7626, 11, 1972, 12675, 2793, 76, 1218, 10736, 11, 323, 8743, 7626, 26, 16070, 6020, 220, 28975, 11, 67749, 720, 9016, 11, 7177, 315, 11835, 11, 100044, 82, 1174, 13254, 7649, 4028, 5361, 9815, 304, 1579, 5326, 4676, 31879, 22275, 43, 12124, 56313, 964, 6060, 50, 11, 6812, 720, 3648, 4356, 256, 220, 1721, 14, 717, 1389, 220, 2318, 14, 1032, 720, 24861, 10790, 1084, 6806, 3816, 288, 1571, 2883, 51744, 10332, 11618, 311, 82703, 34631, 220, 323, 8108, 10708, 369, 3823, 1493, 5996, 6806, 1838, 686, 2454, 11, 11223, 11, 323, 11798, 14683, 3115, 3759, 1887, 2883, 12, 7029, 2355, 6806, 99983, 11, 220, 6319, 11, 220, 323, 81099, 220, 11360, 220, 6549, 3197, 369, 9548, 8276, 48607, 311, 387, 7318, 449, 864, 482, 18081, 11441, 2652, 720, 265, 54478, 3827, 58165, 369, 279, 7626, 323, 7319, 1935, 2162, 2343, 369, 8420, 2355, 720, 17673, 8743, 39539, 1372, 715, 81151, 2355, 3648, 4356, 1084, 51, 4936, 287, 10790, 220, 320, 2545, 14, 2545, 1389, 220, 1721, 14, 717, 8, 2355, 6806, 61844, 220, 1041, 10, 84032, 11, 13375, 89935, 1174, 743, 17078, 369, 2683, 28423, 11, 3984, 5178, 11302, 2355, 720, 46165, 611, 11060, 9580, 81719, 220, 320, 605, 14, 410, 1389, 220, 717, 14, 2304, 8, 33006, 16976, 87837, 63427, 643, 1389, 220, 63706, 2818, 8606, 2355, 3648, 4356, 256, 220, 1721, 14, 1721, 1389, 220, 2589, 14, 605, 2355, 49552, 423, 11967, 1174, 30169, 5996, 6806, 3700, 10365, 449, 12387, 220, 50671, 79454, 304, 220, 34385, 323, 37545, 26, 15972, 7351, 17985, 323, 15612, 220, 311, 2911, 11, 720, 12021, 2521, 10495, 11, 323, 6721, 61583]], 'model': 'text-embedding-ada-002', 'encoding_format': 'base64'}}\n",
      "DEBUG:httpcore.connection:connect_tcp.started host='api.openai.com' port=443 local_address=None timeout=None socket_options=None\n",
      "DEBUG:httpcore.connection:connect_tcp.complete return_value=<httpcore._backends.sync.SyncStream object at 0x000001F4D9BF2710>\n",
      "DEBUG:httpcore.connection:start_tls.started ssl_context=<ssl.SSLContext object at 0x000001F4D8366720> server_hostname='api.openai.com' timeout=None\n",
      "DEBUG:httpcore.connection:start_tls.complete return_value=<httpcore._backends.sync.SyncStream object at 0x000001F4D9C62ED0>\n",
      "DEBUG:httpcore.http11:send_request_headers.started request=<Request [b'POST']>\n",
      "DEBUG:httpcore.http11:send_request_headers.complete\n",
      "DEBUG:httpcore.http11:send_request_body.started request=<Request [b'POST']>\n",
      "DEBUG:httpcore.http11:send_request_body.complete\n",
      "DEBUG:httpcore.http11:receive_response_headers.started request=<Request [b'POST']>\n",
      "DEBUG:httpcore.http11:receive_response_headers.complete return_value=(b'HTTP/1.1', 200, b'OK', [(b'Date', b'Fri, 26 Apr 2024 01:19:09 GMT'), (b'Content-Type', b'application/json'), (b'Transfer-Encoding', b'chunked'), (b'Connection', b'keep-alive'), (b'access-control-allow-origin', b'*'), (b'openai-model', b'text-embedding-ada-002'), (b'openai-organization', b'user-xqtp7jgtgwdv2lgnvjry1mni'), (b'openai-processing-ms', b'69'), (b'openai-version', b'2020-10-01'), (b'strict-transport-security', b'max-age=15724800; includeSubDomains'), (b'x-ratelimit-limit-requests', b'3000'), (b'x-ratelimit-limit-tokens', b'1000000'), (b'x-ratelimit-remaining-requests', b'2999'), (b'x-ratelimit-remaining-tokens', b'998585'), (b'x-ratelimit-reset-requests', b'20ms'), (b'x-ratelimit-reset-tokens', b'84ms'), (b'x-request-id', b'req_45a13147c22c8cf852794b545f46721e'), (b'CF-Cache-Status', b'DYNAMIC'), (b'Set-Cookie', b'__cf_bm=9JUK243aBgcsTNCHfS49LySXPg0eYpOD4CofCoQTbyM-1714094349-1.0.1.1-Di6WSzdNlVYLolb3pLpUJFCcsRgRZyrYgWaQntAvw2iwWwsHwICDorE4chwRP.uQVHHKv1OUqSgR3yERANkO4Q; path=/; expires=Fri, 26-Apr-24 01:49:09 GMT; domain=.api.openai.com; HttpOnly; Secure; SameSite=None'), (b'Set-Cookie', b'_cfuvid=g5UmnDM9p_LCxR_OqwpMBJO3TDDN9RKR05ePLyaFoWs-1714094349758-0.0.1.1-604800000; path=/; domain=.api.openai.com; HttpOnly; Secure; SameSite=None'), (b'Server', b'cloudflare'), (b'CF-RAY', b'87a2be34d8d851aa-DEN'), (b'Content-Encoding', b'br'), (b'alt-svc', b'h3=\":443\"; ma=86400')])\n",
      "INFO:httpx:HTTP Request: POST https://api.openai.com/v1/embeddings \"HTTP/1.1 200 OK\"\n",
      "DEBUG:httpcore.http11:receive_response_body.started request=<Request [b'POST']>\n",
      "DEBUG:urllib3.connectionpool:Starting new HTTPS connection (1): us-api.i.posthog.com:443\n",
      "DEBUG:httpcore.http11:receive_response_body.complete\n",
      "DEBUG:httpcore.http11:response_closed.started\n",
      "DEBUG:httpcore.http11:response_closed.complete\n",
      "DEBUG:openai._base_client:HTTP Request: POST https://api.openai.com/v1/embeddings \"200 OK\"\n",
      "DEBUG:chromadb.config:Starting component PersistentLocalHnswSegment\n",
      "c:\\Users\\mered\\anaconda3\\Lib\\site-packages\\langchain_core\\_api\\deprecation.py:119: LangChainDeprecationWarning: The class `ChatOpenAI` was deprecated in LangChain 0.0.10 and will be removed in 0.2.0. An updated version of the class exists in the langchain-openai package and should be used instead. To use it run `pip install -U langchain-openai` and import as `from langchain_openai import ChatOpenAI`.\n",
      "  warn_deprecated(\n",
      "DEBUG:httpx:load_ssl_context verify=True cert=None trust_env=True http2=False\n",
      "DEBUG:httpx:load_verify_locations cafile='C:\\\\Users\\\\mered\\\\anaconda3\\\\Library\\\\ssl\\\\cacert.pem'\n",
      "DEBUG:httpx:load_ssl_context verify=True cert=None trust_env=True http2=False\n",
      "DEBUG:httpx:load_verify_locations cafile='C:\\\\Users\\\\mered\\\\anaconda3\\\\Library\\\\ssl\\\\cacert.pem'\n",
      "2024-04-25 19:19:11.449 Session state does not function when running a script without `streamlit run`\n"
     ]
    },
    {
     "name": "stderr",
     "output_type": "stream",
     "text": [
      "DEBUG:urllib3.connectionpool:https://us-api.i.posthog.com:443 \"POST /batch/ HTTP/1.1\" 200 None\n"
     ]
    }
   ],
   "source": [
    "directory = 'PDFs_and_TXT'\n",
    "\n",
    "for filename in os.listdir(directory):\n",
    "    if filename.endswith('.pdf'):\n",
    "        file_path = os.path.join(directory, filename)\n",
    "        \n",
    "        loader = PyPDFLoader(file_path)\n",
    "        documents = loader.load()\n",
    "        text_splitter = RecursiveCharacterTextSplitter(chunk_size=5000, chunk_overlap=200)\n",
    "        #\\n\\n, \\n, ' '\n",
    "\n",
    "        chunks = text_splitter.split_documents(documents)    \n",
    "\n",
    "        embeddings = OpenAIEmbeddings()\n",
    "\n",
    "        vector_store = Chroma.from_documents(chunks, embeddings, persist_directory='db')\n",
    "        \n",
    "        llm = ChatOpenAI(model='gpt-3.5-turbo', temperature=.2)\n",
    "\n",
    "        retriever=vector_store.as_retriever()\n",
    "\n",
    "        #chain = RetrievalQA.from_chain_type(llm, retriever=retriever )\n",
    "        crc = ConversationalRetrievalChain.from_llm(llm,retriever)\n",
    "        st.session_state.crc = crc\n",
    "        st.success('File uploaded, chunked and embedded successfully')\n",
    "\n",
    "question = st.text_input('Input your question')"
   ]
  },
  {
   "cell_type": "code",
   "execution_count": 4,
   "metadata": {},
   "outputs": [],
   "source": [
    "if question:\n",
    "    if 'crc' in st.session_state:\n",
    "        crc = st.session_state.crc\n",
    "        if 'history' not in st.session_state:\n",
    "            st.session_state['history'] = []\n",
    "\n",
    "        response = crc.run({'question':question,'chat_history':st.session_state['history']})\n",
    "\n",
    "        st.session_state['history'].append((question,response))\n",
    "        st.write(response)\n",
    "\n",
    "        #st.write(st.session_state['history'])\n",
    "        for prompts in st.session_state['history']:\n",
    "            st.write(\"Question: \" + prompts[0])\n",
    "            st.write(\"Answer: \" + prompts[1]) "
   ]
  }
 ],
 "metadata": {
  "kernelspec": {
   "display_name": "base",
   "language": "python",
   "name": "python3"
  },
  "language_info": {
   "codemirror_mode": {
    "name": "ipython",
    "version": 3
   },
   "file_extension": ".py",
   "mimetype": "text/x-python",
   "name": "python",
   "nbconvert_exporter": "python",
   "pygments_lexer": "ipython3",
   "version": "3.11.5"
  }
 },
 "nbformat": 4,
 "nbformat_minor": 2
}
