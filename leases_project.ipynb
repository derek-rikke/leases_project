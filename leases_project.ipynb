{
 "cells": [
  {
   "cell_type": "code",
   "execution_count": null,
   "metadata": {},
   "outputs": [],
   "source": [
    "# pip install PyMuPDF"
   ]
  },
  {
   "cell_type": "code",
   "execution_count": 4,
   "metadata": {},
   "outputs": [],
   "source": [
    "import streamlit as st\n",
    "import fitz  # PyMuPDF\n",
    "import os\n",
    "import openai"
   ]
  },
  {
   "cell_type": "code",
   "execution_count": null,
   "metadata": {},
   "outputs": [],
   "source": [
    "openai_api_key = st.secrets[\"OPENAI_API_KEY\"]"
   ]
  },
  {
   "cell_type": "code",
   "execution_count": 2,
   "metadata": {},
   "outputs": [],
   "source": [
    "# Define PDF extraction function, handles 1 PDF at a time\n",
    "def extract_text_from_pdf(file_path):\n",
    "    with fitz.open(file_path)as doc:\n",
    "        text = \"\"\n",
    "        for page in doc:\n",
    "            text += page.get_text()\n",
    "        return text"
   ]
  },
  {
   "cell_type": "code",
   "execution_count": 3,
   "metadata": {},
   "outputs": [],
   "source": [
    "# Define a directory processing function that reads through the folder where PDFs are saved, checks for \n",
    "# PDF files and uses extraction function to extract text from each.\n",
    "\n",
    "def load_pdfs_from_directory(directory):\n",
    "    # create dictionary to store text from each PDF\n",
    "    texts = {}\n",
    "    for filename in os.listdir(directory):\n",
    "        if filename.endswith('.pdf'):\n",
    "            file_path = os.path.join(directory, filename)\n",
    "            text = extract_text_from_pdf(file_path)\n",
    "            texts[filename] = text\n",
    "    return texts\n",
    "    "
   ]
  },
  {
   "cell_type": "code",
   "execution_count": 5,
   "metadata": {},
   "outputs": [
    {
     "name": "stderr",
     "output_type": "stream",
     "text": [
      "2024-04-23 16:53:25.080 \n",
      "  \u001b[33m\u001b[1mWarning:\u001b[0m to view this Streamlit app on a browser, run it with the following\n",
      "  command:\n",
      "\n",
      "    streamlit run c:\\Users\\mered\\anaconda3\\Lib\\site-packages\\ipykernel_launcher.py [ARGUMENTS]\n"
     ]
    }
   ],
   "source": [
    "\n",
    "def main():\n",
    "    st.title('ASC 842 AI Assistant')\n",
    "    question = st.text_input(\"Ask a question about lease accounting:\")\n",
    "    \n",
    "    # Load and prepare documents\n",
    "    pdf_texts = load_pdfs_from_directory('pdfs')\n",
    "    documents = [text for _, text in pdf_texts.items()]\n",
    "    \n",
    "    if question and documents:\n",
    "        answer = query_openai(documents, question)\n",
    "        st.write(\"Answer:\", answer)\n",
    "        \n",
    "if __name__ == \"__main__\":\n",
    "    main()"
   ]
  }
 ],
 "metadata": {
  "kernelspec": {
   "display_name": "base",
   "language": "python",
   "name": "python3"
  },
  "language_info": {
   "codemirror_mode": {
    "name": "ipython",
    "version": 3
   },
   "file_extension": ".py",
   "mimetype": "text/x-python",
   "name": "python",
   "nbconvert_exporter": "python",
   "pygments_lexer": "ipython3",
   "version": "3.11.5"
  }
 },
 "nbformat": 4,
 "nbformat_minor": 2
}
